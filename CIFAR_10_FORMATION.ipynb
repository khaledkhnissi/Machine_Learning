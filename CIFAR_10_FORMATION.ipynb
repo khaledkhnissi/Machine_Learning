{
  "nbformat": 4,
  "nbformat_minor": 0,
  "metadata": {
    "colab": {
      "name": "CIFAR 10 FORMATION.ipynb",
      "provenance": [],
      "authorship_tag": "ABX9TyPp81LR4sBjHhtL2DuE4Xtx",
      "include_colab_link": true
    },
    "kernelspec": {
      "name": "python3",
      "display_name": "Python 3"
    },
    "language_info": {
      "name": "python"
    }
  },
  "cells": [
    {
      "cell_type": "markdown",
      "metadata": {
        "id": "view-in-github",
        "colab_type": "text"
      },
      "source": [
        "<a href=\"https://colab.research.google.com/github/khaledkhnissi/khaledkhnissi/blob/main/CIFAR_10_FORMATION.ipynb\" target=\"_parent\"><img src=\"https://colab.research.google.com/assets/colab-badge.svg\" alt=\"Open In Colab\"/></a>"
      ]
    },
    {
      "cell_type": "code",
      "metadata": {
        "id": "W10jViRE8_Xe"
      },
      "source": [
        "from keras.datasets import cifar10\n",
        "import matplotlib.pyplot as plt\n",
        "from keras.models import Sequential\n",
        "from keras.layers import Dense\n",
        "from keras.layers import Dropout\n",
        "from keras.layers import Flatten\n",
        "from keras.constraints import maxnorm\n",
        "from keras.optimizers import SGD\n",
        "from keras.layers.convolutional import Conv2D\n",
        "from keras.layers.convolutional import MaxPooling2D\n",
        "from keras.utils import np_utils\n",
        "\n",
        "(train_x, train_y), (test_x, test_y) = cifar10.load_data();\n",
        "n = 6;\n",
        "plt.figure(figsize=(20, 10));\n",
        "for i in range(n):\n",
        "    plt.subplot(330 + 1 + i);\n",
        "    plt.imshow(train_x[i]);\n",
        "plt.show();\n",
        "\n",
        "train_x = train_x.astype('float32');\n",
        "test_x = test_x.astype('float32');\n",
        "train_x = train_x / 255.0;\n",
        "test_x = test_x / 255.0;\n",
        "train_y = np_utils.to_categorical(train_y);\n",
        "test_y = np_utils.to_categorical(test_y);\n",
        "num_classes = test_y.shape[1];\n",
        "\n",
        "model = Sequential();\n",
        "model.add(Conv2D(32, (3, 3), input_shape=(32, 32, 3),\n",
        "                 padding='same', activation='relu', kernel_constraint=3));\n",
        "model.add(Dropout(0.2));\n",
        "model.add(Conv2D(32, (3, 3), activation='relu', padding='same', kernel_constraint=3));\n",
        "model.add(MaxPooling2D(pool_size=(2, 2)));\n",
        "model.add(Flatten());\n",
        "model.add(Dense(512, activation='relu', kernel_constraint=maxnorm(3)));\n",
        "model.add(Dropout(0.5));\n",
        "model.add(Dense(num_classes, activation='softmax'));\n",
        "\n",
        "sgd = SGD(lr=0.01, momentum=0.9, decay=(0.01 / 25), nesterov=False);\n",
        "model.compile(loss='categorical', optimizer=sgd, metrics=['accuracy']);\n",
        "\n",
        "model.summary();\n"
      ],
      "execution_count": null,
      "outputs": []
    }
  ]
}